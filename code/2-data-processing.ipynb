{
 "cells": [
  {
   "cell_type": "code",
   "execution_count": 1,
   "metadata": {},
   "outputs": [],
   "source": [
    "import json\n",
    "import numpy as np\n",
    "from os import getcwd\n",
    "import pandas as pd\n",
    "import pickle"
   ]
  },
  {
   "cell_type": "code",
   "execution_count": 2,
   "metadata": {},
   "outputs": [],
   "source": [
    "from sklearn import preprocessing\n",
    "import re\n",
    "from textblob import Word, TextBlob\n",
    "from string import punctuation as pn\n",
    "from nltk.stem.snowball import SnowballStemmer\n",
    "from gensim.parsing.preprocessing import STOPWORDS"
   ]
  },
  {
   "cell_type": "code",
   "execution_count": 3,
   "metadata": {},
   "outputs": [],
   "source": [
    "# Encoding categorical variable (venue)\n",
    "def encode_venues(df_train):\n",
    "    labelencoder = preprocessing.LabelEncoder()\n",
    "    encoded_labels_venue = labelencoder.fit_transform(df_train['venue'][:].tolist())\n",
    "    df_train['venues_le'] = encoded_labels_venue\n",
    "    df_train= df_train.drop([\"venue\"], axis=1)\n",
    "\n",
    "\n",
    "def process_row(row):\n",
    "   # Deleting email:\n",
    "   row = re.sub('(\\S+@\\S+)(com|\\s+com)', ' ', row)\n",
    "   # Deleting username:\n",
    "   row = re.sub('(\\S+@\\S)', ' ', row)\n",
    "   # punctuation & lower case:\n",
    "   punctuation = pn + '—“,”‘-’'\n",
    "   row = ''.join(char.lower() for char in row if char not in punctuation)\n",
    "   # Erasing stopword, converting plurals into singular, detach punctuation\n",
    "   stop = STOPWORDS\n",
    "   row = TextBlob(row)\n",
    "   row = ' '.join(Word(word).lemmatize() for word in row.words if word not in stop)\n",
    "\n",
    "   # Bring word to its root form\n",
    "   stemmer = SnowballStemmer('english')\n",
    "   row = ' '.join([stemmer.stem(word) for word in row.split() if len(word) > 2])\n",
    "   # Erase extra white space\n",
    "   row = re.sub('\\s{1,}', ' ', row)\n",
    "\n",
    "   return row\n",
    "\n"
   ]
  },
  {
   "cell_type": "code",
   "execution_count": 4,
   "metadata": {},
   "outputs": [],
   "source": [
    "def set_path():\n",
    "# Set working directory to location of the file\n",
    "   abspath = getcwd()\n",
    "   dname = os.path.dirname(abspath)\n",
    "   os.chdir(dname)\n",
    "   \n",
    "set_path()"
   ]
  },
  {
   "cell_type": "code",
   "execution_count": 5,
   "metadata": {},
   "outputs": [
    {
     "data": {
      "text/plain": [
       "(12129, 7)"
      ]
     },
     "execution_count": 5,
     "metadata": {},
     "output_type": "execute_result"
    }
   ],
   "source": [
    "# Open raw data\n",
    "df_train = pd.read_pickle(\"data/processed/dirty_df.pkl\")\n",
    "df_train.shape\n"
   ]
  },
  {
   "cell_type": "markdown",
   "metadata": {},
   "source": [
    "### Delete duplicate"
   ]
  },
  {
   "cell_type": "code",
   "execution_count": 6,
   "metadata": {},
   "outputs": [],
   "source": [
    "df_cleaned=df_train.drop([df_train.index[10230],df_train.index[12039],df_train.index[11910],df_train.index[10221],df_train.index[10559],df_train.index[7177],df_train.index[5839],df_train.index[2070], df_train.index[2459],df_train.index[2612]])"
   ]
  },
  {
   "cell_type": "code",
   "execution_count": 7,
   "metadata": {},
   "outputs": [
    {
     "data": {
      "text/html": [
       "<div>\n",
       "<style scoped>\n",
       "    .dataframe tbody tr th:only-of-type {\n",
       "        vertical-align: middle;\n",
       "    }\n",
       "\n",
       "    .dataframe tbody tr th {\n",
       "        vertical-align: top;\n",
       "    }\n",
       "\n",
       "    .dataframe thead th {\n",
       "        text-align: right;\n",
       "    }\n",
       "</style>\n",
       "<table border=\"1\" class=\"dataframe\">\n",
       "  <thead>\n",
       "    <tr style=\"text-align: right;\">\n",
       "      <th></th>\n",
       "      <th>paperId</th>\n",
       "      <th>title</th>\n",
       "      <th>authorId</th>\n",
       "      <th>authorName</th>\n",
       "      <th>abstract</th>\n",
       "      <th>year</th>\n",
       "      <th>venue</th>\n",
       "    </tr>\n",
       "  </thead>\n",
       "  <tbody>\n",
       "  </tbody>\n",
       "</table>\n",
       "</div>"
      ],
      "text/plain": [
       "Empty DataFrame\n",
       "Columns: [paperId, title, authorId, authorName, abstract, year, venue]\n",
       "Index: []"
      ]
     },
     "execution_count": 7,
     "metadata": {},
     "output_type": "execute_result"
    }
   ],
   "source": [
    "dubbel = df_cleaned[df_cleaned['title'].str.contains(\"Publications Received\")]\n",
    "dubbel"
   ]
  },
  {
   "cell_type": "code",
   "execution_count": 8,
   "metadata": {},
   "outputs": [
    {
     "data": {
      "text/html": [
       "<div>\n",
       "<style scoped>\n",
       "    .dataframe tbody tr th:only-of-type {\n",
       "        vertical-align: middle;\n",
       "    }\n",
       "\n",
       "    .dataframe tbody tr th {\n",
       "        vertical-align: top;\n",
       "    }\n",
       "\n",
       "    .dataframe thead th {\n",
       "        text-align: right;\n",
       "    }\n",
       "</style>\n",
       "<table border=\"1\" class=\"dataframe\">\n",
       "  <thead>\n",
       "    <tr style=\"text-align: right;\">\n",
       "      <th></th>\n",
       "      <th>paperId</th>\n",
       "      <th>title</th>\n",
       "      <th>authorId</th>\n",
       "      <th>authorName</th>\n",
       "      <th>abstract</th>\n",
       "      <th>year</th>\n",
       "      <th>venue</th>\n",
       "    </tr>\n",
       "  </thead>\n",
       "  <tbody>\n",
       "  </tbody>\n",
       "</table>\n",
       "</div>"
      ],
      "text/plain": [
       "Empty DataFrame\n",
       "Columns: [paperId, title, authorId, authorName, abstract, year, venue]\n",
       "Index: []"
      ]
     },
     "execution_count": 8,
     "metadata": {},
     "output_type": "execute_result"
    }
   ],
   "source": [
    "df_cleaned[df_cleaned['title'].duplicated() == True]"
   ]
  },
  {
   "cell_type": "code",
   "execution_count": 9,
   "metadata": {},
   "outputs": [
    {
     "data": {
      "text/plain": [
       "(12119, 7)"
      ]
     },
     "execution_count": 9,
     "metadata": {},
     "output_type": "execute_result"
    }
   ],
   "source": [
    "df_cleaned.shape"
   ]
  },
  {
   "cell_type": "markdown",
   "metadata": {},
   "source": [
    "### Processing text, re-label author, drop unnessary columns"
   ]
  },
  {
   "cell_type": "markdown",
   "metadata": {},
   "source": [
    "##### Processing texts"
   ]
  },
  {
   "cell_type": "code",
   "execution_count": 10,
   "metadata": {},
   "outputs": [],
   "source": [
    "# Call cleaning functions\n",
    "encode_venues(df_cleaned)\n",
    "df_cleaned['title'] = df_cleaned['title'].apply(process_row)\n",
    "df_cleaned['abstract'] = df_cleaned['abstract'].apply(process_row)\n"
   ]
  },
  {
   "cell_type": "code",
   "execution_count": 11,
   "metadata": {},
   "outputs": [],
   "source": [
    "def mergingtext(df):\n",
    "   full_content = []\n",
    "   for i in range(len(df)):\n",
    "      fulltext = df.iloc[i]['title'] + ' ' + df.iloc[i]['abstract']\n",
    "      full_content.append(fulltext)\n",
    "   df['content'] = full_content\n",
    "\n",
    "mergingtext(df_cleaned)"
   ]
  },
  {
   "cell_type": "markdown",
   "metadata": {},
   "source": [
    "##### Re-label author"
   ]
  },
  {
   "cell_type": "markdown",
   "metadata": {},
   "source": [
    "### "
   ]
  },
  {
   "cell_type": "code",
   "execution_count": 12,
   "metadata": {},
   "outputs": [
    {
     "data": {
      "text/html": [
       "<div>\n",
       "<style scoped>\n",
       "    .dataframe tbody tr th:only-of-type {\n",
       "        vertical-align: middle;\n",
       "    }\n",
       "\n",
       "    .dataframe tbody tr th {\n",
       "        vertical-align: top;\n",
       "    }\n",
       "\n",
       "    .dataframe thead th {\n",
       "        text-align: right;\n",
       "    }\n",
       "</style>\n",
       "<table border=\"1\" class=\"dataframe\">\n",
       "  <thead>\n",
       "    <tr style=\"text-align: right;\">\n",
       "      <th></th>\n",
       "      <th>content</th>\n",
       "      <th>authId_enc</th>\n",
       "    </tr>\n",
       "  </thead>\n",
       "  <tbody>\n",
       "    <tr>\n",
       "      <th>0</th>\n",
       "      <td>detect linguist idiosyncrat interest autism di...</td>\n",
       "      <td>1571</td>\n",
       "    </tr>\n",
       "    <tr>\n",
       "      <th>1</th>\n",
       "      <td>bigram bilstm neural network sequenti metaphor...</td>\n",
       "      <td>1250</td>\n",
       "    </tr>\n",
       "    <tr>\n",
       "      <th>2</th>\n",
       "      <td>factual effici integr relev fact visual questi...</td>\n",
       "      <td>4134</td>\n",
       "    </tr>\n",
       "  </tbody>\n",
       "</table>\n",
       "</div>"
      ],
      "text/plain": [
       "                                             content  authId_enc\n",
       "0  detect linguist idiosyncrat interest autism di...        1571\n",
       "1  bigram bilstm neural network sequenti metaphor...        1250\n",
       "2  factual effici integr relev fact visual questi...        4134"
      ]
     },
     "execution_count": 12,
     "metadata": {},
     "output_type": "execute_result"
    }
   ],
   "source": [
    "#labeling author id\n",
    "auth_le = preprocessing.LabelEncoder()\n",
    "authid_enc = auth_le.fit_transform(df_cleaned['authorId'])\n",
    "df_cleaned['authId_enc'] = authid_enc\n",
    "df_cleaned = df_cleaned[['content','authId_enc' ]].copy()\n",
    "df_cleaned.reset_index(inplace=True, drop = True)\n",
    "df_cleaned[:3]"
   ]
  },
  {
   "cell_type": "code",
   "execution_count": 13,
   "metadata": {},
   "outputs": [],
   "source": [
    "# saving author label to true authorId\n",
    "with open(\"code/authorIdlabel.pkl\", 'wb') as f:\n",
    "      pickle.dump(file=f, obj=auth_le)\n",
    "\n",
    "\n"
   ]
  },
  {
   "cell_type": "markdown",
   "metadata": {},
   "source": [
    "##"
   ]
  },
  {
   "cell_type": "markdown",
   "metadata": {},
   "source": [
    "### Spliting data"
   ]
  },
  {
   "cell_type": "code",
   "execution_count": 15,
   "metadata": {},
   "outputs": [],
   "source": [
    "from collections import Counter\n",
    "import random"
   ]
  },
  {
   "cell_type": "code",
   "execution_count": 16,
   "metadata": {},
   "outputs": [
    {
     "data": {
      "text/plain": [
       "1702"
      ]
     },
     "execution_count": 16,
     "metadata": {},
     "output_type": "execute_result"
    }
   ],
   "source": [
    "# choosing 500 authors that have more than 4 encounters in the dataset\n",
    "\n",
    "count = Counter(df_cleaned['authId_enc'])\n",
    "frequentAuthor = list({k:v for k,v in count.items() if count[k] >=3}.keys())\n",
    "len(frequentAuthor)\n",
    "\n"
   ]
  },
  {
   "cell_type": "code",
   "execution_count": 17,
   "metadata": {},
   "outputs": [],
   "source": [
    "random.shuffle(frequentAuthor)\n",
    "\n",
    "val_id = []\n",
    "for auth in frequentAuthor:\n",
    "   for i in range(len(df_cleaned)):\n",
    "      if df_cleaned.iloc[i]['authId_enc'] == auth:\n",
    "         val_id.append(i)\n",
    "         break\n",
    "train_id = [i for i in df_cleaned.index if i not in val_id]  \n"
   ]
  },
  {
   "cell_type": "code",
   "execution_count": 18,
   "metadata": {},
   "outputs": [],
   "source": [
    "train_df = df_cleaned.iloc[train_id]\n",
    "train_df.reset_index(inplace=True, drop = True)\n",
    "val_df = df_cleaned.iloc[val_id]\n",
    "val_df.reset_index(inplace=True, drop = True)"
   ]
  },
  {
   "cell_type": "code",
   "execution_count": 19,
   "metadata": {},
   "outputs": [
    {
     "data": {
      "text/plain": [
       "((10417, 2), (1702, 2))"
      ]
     },
     "execution_count": 19,
     "metadata": {},
     "output_type": "execute_result"
    }
   ],
   "source": [
    "train_df.shape, val_df.shape\n"
   ]
  },
  {
   "cell_type": "code",
   "execution_count": 20,
   "metadata": {},
   "outputs": [],
   "source": [
    "train_df.to_pickle(\"data/processed/train_clean_df.pkl\")\n",
    "val_df.to_pickle(\"data/processed/val_clean_df.pkl\")"
   ]
  },
  {
   "cell_type": "markdown",
   "metadata": {},
   "source": [
    "### Cleaning test data"
   ]
  },
  {
   "cell_type": "code",
   "execution_count": 21,
   "metadata": {},
   "outputs": [],
   "source": [
    "# Open raw data\n",
    "df_test = pd.read_pickle(\"data/processed/test_dirty_df.pkl\")\n",
    "\n",
    "# Call cleaning functions\n",
    "encode_venues(df_test)\n",
    "df_test['title'] = df_test['title'].apply(process_row)\n",
    "df_test['abstract'] = df_test['abstract'].apply(process_row)\n",
    "\n",
    "mergingtext(df_test)\n",
    "\n",
    "\n",
    "# write back to processed folder\n",
    "df_test.to_pickle(\"data/processed/test_clean_df.pkl\")"
   ]
  },
  {
   "cell_type": "code",
   "execution_count": null,
   "metadata": {},
   "outputs": [],
   "source": []
  }
 ],
 "metadata": {
  "kernelspec": {
   "display_name": "Python 3.9.7 ('base')",
   "language": "python",
   "name": "python3"
  },
  "language_info": {
   "codemirror_mode": {
    "name": "ipython",
    "version": 3
   },
   "file_extension": ".py",
   "mimetype": "text/x-python",
   "name": "python",
   "nbconvert_exporter": "python",
   "pygments_lexer": "ipython3",
   "version": "3.9.7 (default, Sep 16 2021, 16:59:28) [MSC v.1916 64 bit (AMD64)]"
  },
  "orig_nbformat": 4,
  "vscode": {
   "interpreter": {
    "hash": "5bbd7653c429d3d2de6e8bc2b15128056d2671a20efb53a45ef350876c14518f"
   }
  }
 },
 "nbformat": 4,
 "nbformat_minor": 2
}
