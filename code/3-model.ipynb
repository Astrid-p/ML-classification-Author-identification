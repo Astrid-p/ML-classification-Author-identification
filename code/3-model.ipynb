{
 "cells": [
  {
   "cell_type": "code",
   "execution_count": 1,
   "metadata": {},
   "outputs": [],
   "source": [
    "import numpy as np\n",
    "import pandas as pd\n",
    "from os import getcwd\n",
    "from sklearn.ensemble import GradientBoostingClassifier\n",
    "from sklearn.feature_extraction.text import TfidfVectorizer\n",
    "import os\n",
    "import pickle\n",
    "import warnings\n",
    "import multiprocessing \n"
   ]
  },
  {
   "cell_type": "code",
   "execution_count": 2,
   "metadata": {},
   "outputs": [],
   "source": [
    "def set_path():\n",
    "    abspath = getcwd()\n",
    "    dname = os.path.dirname(abspath)\n",
    "    os.chdir(dname)\n",
    "\n"
   ]
  },
  {
   "cell_type": "code",
   "execution_count": 3,
   "metadata": {},
   "outputs": [],
   "source": [
    "# Vetorize content (abstract + title) by *authorId*\n",
    "def model_nlp(df, authId):\n",
    "    df_auth = df[df['authId_enc'] == authId]\n",
    "    auth_corpus = df_auth['content'].tolist() \n",
    "\n",
    "    # vectorize literature style\n",
    "    vectorizer = TfidfVectorizer(input='content')\n",
    "    auth_NLP = vectorizer.fit_transform(auth_corpus)\n",
    "    return auth_NLP, vectorizer\n",
    "\n",
    "# get estimates from categorical variables (year and venue) for each author by random forest\n",
    "\n",
    "\n",
    "def model_place(df, authId, max_depth = 30):\n",
    "    cats = df[['year', 'venues_le']]\n",
    "    target = df['authId_enc'] == authId\n",
    "    clf = GradientBoostingClassifier(max_depth = max_depth)\n",
    "    clf = clf.fit(cats, target)\n",
    "\n",
    "    return clf # prob of pair of cats by author\n",
    "\n",
    "\n",
    "\n"
   ]
  },
  {
   "cell_type": "code",
   "execution_count": 4,
   "metadata": {},
   "outputs": [],
   "source": [
    "def author_enc(df, authId):\n",
    "    nlp, vectorizer = model_nlp(df, authId)\n",
    "    place = model_place(df, authId)\n",
    "\n",
    "    merged = [(nlp,vectorizer), place]\n",
    "\n",
    "    # write authorId encoded into file:\n",
    "    with open(f\"models_TF/{authId}.pkl\", 'wb') as f:\n",
    "        pickle.dump(file=f, obj=merged)\n",
    "\n",
    "\n",
    "def encoding_all():\n",
    "    set_path()\n",
    "    df = pd.read_pickle('data/processed/train_clean_df.pkl')\n",
    "    authIds = df['authId_enc'].unique()\n",
    "    for authId in authIds:\n",
    "        author_enc(df, authId)\n",
    "\n",
    "encoding_all()\n"
   ]
  },
  {
   "cell_type": "markdown",
   "metadata": {},
   "source": []
  },
  {
   "cell_type": "markdown",
   "metadata": {},
   "source": []
  }
 ],
 "metadata": {
  "kernelspec": {
   "display_name": "Python 3 (ipykernel)",
   "language": "python",
   "name": "python3"
  },
  "language_info": {
   "codemirror_mode": {
    "name": "ipython",
    "version": 3
   },
   "file_extension": ".py",
   "mimetype": "text/x-python",
   "name": "python",
   "nbconvert_exporter": "python",
   "pygments_lexer": "ipython3",
   "version": "3.9.7 (default, Sep 16 2021, 16:59:28) [MSC v.1916 64 bit (AMD64)]"
  },
  "vscode": {
   "interpreter": {
    "hash": "5bbd7653c429d3d2de6e8bc2b15128056d2671a20efb53a45ef350876c14518f"
   }
  }
 },
 "nbformat": 4,
 "nbformat_minor": 2
}
