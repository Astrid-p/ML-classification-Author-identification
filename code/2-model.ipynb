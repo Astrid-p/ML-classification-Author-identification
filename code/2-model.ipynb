{
 "cells": [
  {
   "cell_type": "code",
   "execution_count": 1,
   "metadata": {},
   "outputs": [],
   "source": [
    "import numpy as np\n",
    "import pandas as pd\n",
    "from os import getcwd\n",
    "from sklearn.ensemble import RandomForestClassifier\n",
    "from sklearn.feature_extraction.text import CountVectorizer\n",
    "import os\n",
    "import pickle"
   ]
  },
  {
   "cell_type": "code",
   "execution_count": 2,
   "metadata": {},
   "outputs": [],
   "source": [
    "def set_path(): \n",
    "   abspath = getcwd()\n",
    "   dname = os.path.dirname(abspath)\n",
    "   os.chdir(dname)"
   ]
  },
  {
   "cell_type": "code",
   "execution_count": 3,
   "metadata": {},
   "outputs": [],
   "source": [
    "# Vetorize content (abstract + title) by *authorId*\n",
    "\n",
    "def vectorize_content(df, authId):\n",
    "   df_auth = df['authorId']== authId\n",
    "   df_content = df_auth['abstract'].tolist() + df_auth['title'].tolist()\n",
    "   \n",
    "   #vectorize literature style\n",
    "   auth_NLP = CountVectorizer(input = 'content')\n",
    "   auth_NLP.fit_transform(df_content)\n",
    "   return auth_NLP\n",
    "\n",
    "# get estimates from categorical variables (year and venue) for each author by random forest \n",
    "def estimateCat(df, authId, estim = 20):\n",
    "   cats = df[['year', 'venues_le']]\n",
    "   target = df['authorId'] == authId\n",
    "   clf = RandomForestClassifier(n_estimators= estim)\n",
    "   clf = clf.fit(cats, target)\n",
    "   \n",
    "   return clf #prob of pair of cats by author\n",
    "\n",
    "def author_enc(df, authId):\n",
    "   nlp = vectorize_content(df, authId)\n",
    "   cat = estimateCat(df, authId)\n",
    "\n",
    "   merged = [nlp,cat]\n",
    "   merged[0].get_feature_names_out()\n",
    "\n",
    "   #write authorId encoded into file:\n",
    "   with open(f\"models/{authId}.pkl\", 'wb') as f:\n",
    "      pickle.dump(file = f, obj =merged)\n",
    "\n",
    "def encoding_all():\n",
    "   set_path()\n",
    "   df = pd.read_pickle('data/processed/clean_df.pkl')\n",
    "   authIds = df['authorId'].unique()\n",
    "   for authId in authIds:\n",
    "      author_enc(df, authId)\n",
    "   \n",
    "encoding_all()\n",
    "\n",
    "\n",
    "\n"
   ]
  },
  {
   "cell_type": "code",
   "execution_count": null,
   "metadata": {},
   "outputs": [],
   "source": []
  }
 ],
 "metadata": {
  "kernelspec": {
   "display_name": "Python 3 (ipykernel)",
   "language": "python",
   "name": "python3"
  },
  "language_info": {
   "codemirror_mode": {
    "name": "ipython",
    "version": 3
   },
   "file_extension": ".py",
   "mimetype": "text/x-python",
   "name": "python",
   "nbconvert_exporter": "python",
   "pygments_lexer": "ipython3",
   "version": "3.9.7"
  },
  "vscode": {
   "interpreter": {
    "hash": "5bbd7653c429d3d2de6e8bc2b15128056d2671a20efb53a45ef350876c14518f"
   }
  }
 },
 "nbformat": 4,
 "nbformat_minor": 2
}
