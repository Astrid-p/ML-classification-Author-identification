{
 "cells": [
  {
   "cell_type": "code",
   "execution_count": 1,
   "metadata": {},
   "outputs": [],
   "source": [
    "import numpy as np\n",
    "import pandas as pd\n",
    "from os import getcwd\n",
    "import glob\n",
    "from os.path import join\n",
    "import ntpath\n",
    "from sklearn.ensemble import GradientBoostingClassifier\n",
    "from sklearn.feature_extraction.text import TfidfVectorizer\n",
    "import os\n",
    "import pickle\n",
    "\n",
    "import warnings\n",
    "import multiprocessing "
   ]
  },
  {
   "cell_type": "code",
   "execution_count": 2,
   "metadata": {},
   "outputs": [],
   "source": [
    "def set_path(): \n",
    "   abspath = getcwd()\n",
    "   dname = os.path.dirname(abspath)\n",
    "   os.chdir(dname)\n",
    "\n",
    "set_path()\n",
    " "
   ]
  },
  {
   "cell_type": "code",
   "execution_count": 3,
   "metadata": {},
   "outputs": [],
   "source": [
    "def score_NLP(auth_NLP,vectorizer,testcase):#all words in train dictionary of one authorb\n",
    "    auth_nlp = auth_NLP.toarray()\n",
    "    testTF = vectorizer.transform([testcase]).toarray()[0]\n",
    "    score = []\n",
    "    for article in auth_nlp:\n",
    "        score.append(np.dot(article, testTF))\n",
    "    return max(score)\n",
    "\n",
    "\n"
   ]
  },
  {
   "cell_type": "code",
   "execution_count": 4,
   "metadata": {},
   "outputs": [],
   "source": [
    "def score_Place(placeMod, testcase):\n",
    "    score = placeMod.predict_proba([testcase])[0][1]\n",
    "    return score"
   ]
  },
  {
   "cell_type": "code",
   "execution_count": 5,
   "metadata": {},
   "outputs": [],
   "source": [
    "def calculate_final_score(score_nlp, score_place):\n",
    "   final_score = score_nlp + score_place \n",
    "   return final_score"
   ]
  },
  {
   "cell_type": "code",
   "execution_count": 6,
   "metadata": {},
   "outputs": [],
   "source": [
    "# prediction for one case:\n",
    "def prediction(year, venue,content):\n",
    "   # preparing test cases: \n",
    "   testcase_NLP = content\n",
    "   #testcase_place = [year, venue]\n",
    "\n",
    "   # access archive:\n",
    "\n",
    "   pkl_file_list = glob.glob(join(getcwd(),'models_TF',\"*.pkl\"))\n",
    "   result_records = {}\n",
    "   for fname in pkl_file_list:\n",
    "      _, authid = ntpath.split(fname)\n",
    "      authid = int(authid[:-4])\n",
    "      with open(fname, 'rb') as f:\n",
    "         models = pickle.load(file = f)\n",
    "      \n",
    "      # NLP score\n",
    "      auth_NLP, vectorizer = models[0] \n",
    "      score_nlp = score_NLP(auth_NLP, vectorizer,testcase_NLP)\n",
    "\n",
    "      #place score\n",
    "      #place_model = models[1]\n",
    "      #score_place = 0           ############## Remember to change `model_place`` later\n",
    "\n",
    "      final_score =  score_nlp      ## `calculate_final_score(score_nlp, score_place)`\n",
    "      result_records[authid] = final_score\n",
    "   return max(result_records, key=result_records.get)\n",
    "      \n"
   ]
  },
  {
   "cell_type": "code",
   "execution_count": 7,
   "metadata": {},
   "outputs": [],
   "source": [
    "# predict all \n",
    "\n",
    "def predict_all(df):\n",
    "   pred = []\n",
    "   for i in range(len(df)):\n",
    "      if i%100 == 0:\n",
    "         print(f'case prediction {i}')\n",
    "      case = df.iloc[i]\n",
    "      year = case[\"year\"]\n",
    "      venue = case[\"venues_le\"]\n",
    "      content = case[\"content\"]\n",
    "      result = prediction(year, venue, content)\n",
    "      pred.append(result)\n",
    "   return pred\n",
    "\n",
    "      "
   ]
  },
  {
   "cell_type": "code",
   "execution_count": 8,
   "metadata": {},
   "outputs": [
    {
     "name": "stdout",
     "output_type": "stream",
     "text": [
      "case prediction 0\n",
      "case prediction 100\n"
     ]
    }
   ],
   "source": [
    "warnings.filterwarnings('ignore')\n",
    "df_val= pd.read_pickle('data/processed/val_clean_df.pkl')\n",
    "\n",
    "val_pred = predict_all(df = df_val)"
   ]
  },
  {
   "cell_type": "code",
   "execution_count": null,
   "metadata": {},
   "outputs": [
    {
     "data": {
      "text/plain": [
       "0.0"
      ]
     },
     "execution_count": 16,
     "metadata": {},
     "output_type": "execute_result"
    }
   ],
   "source": [
    "from sklearn.metrics import accuracy_score\n",
    "accuracy_score(df_val['authId_enc'].values, np.array(val_pred))"
   ]
  },
  {
   "cell_type": "markdown",
   "metadata": {},
   "source": [
    "#### parallel code:"
   ]
  },
  {
   "cell_type": "code",
   "execution_count": null,
   "metadata": {},
   "outputs": [],
   "source": []
  }
 ],
 "metadata": {
  "kernelspec": {
   "display_name": "Python 3.9.7 ('base')",
   "language": "python",
   "name": "python3"
  },
  "language_info": {
   "codemirror_mode": {
    "name": "ipython",
    "version": 3
   },
   "file_extension": ".py",
   "mimetype": "text/x-python",
   "name": "python",
   "nbconvert_exporter": "python",
   "pygments_lexer": "ipython3",
   "version": "3.9.7"
  },
  "orig_nbformat": 4,
  "vscode": {
   "interpreter": {
    "hash": "5bbd7653c429d3d2de6e8bc2b15128056d2671a20efb53a45ef350876c14518f"
   }
  }
 },
 "nbformat": 4,
 "nbformat_minor": 2
}
